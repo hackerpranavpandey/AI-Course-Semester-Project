{
  "nbformat": 4,
  "nbformat_minor": 0,
  "metadata": {
    "colab": {
      "provenance": []
    },
    "kernelspec": {
      "name": "python3",
      "display_name": "Python 3"
    },
    "language_info": {
      "name": "python"
    },
    "accelerator": "TPU"
  },
  "cells": [
    {
      "cell_type": "code",
      "execution_count": null,
      "metadata": {
        "id": "TCssNeRnfbIt"
      },
      "outputs": [],
      "source": []
    },
    {
      "cell_type": "code",
      "source": [
        "from google.colab import drive\n",
        "drive.mount('/content/drive')"
      ],
      "metadata": {
        "colab": {
          "base_uri": "https://localhost:8080/"
        },
        "id": "0r7DYVbPfefo",
        "outputId": "0014e9b0-beb7-4525-fffd-7ee399fbe110"
      },
      "execution_count": null,
      "outputs": [
        {
          "output_type": "stream",
          "name": "stdout",
          "text": [
            "Drive already mounted at /content/drive; to attempt to forcibly remount, call drive.mount(\"/content/drive\", force_remount=True).\n"
          ]
        }
      ]
    },
    {
      "cell_type": "code",
      "source": [
        "import tensorflow as tf\n",
        "import matplotlib.pyplot as plt\n",
        "import pandas as pd\n",
        "import seaborn as sns"
      ],
      "metadata": {
        "id": "LGlQfCvCgHl-"
      },
      "execution_count": null,
      "outputs": []
    },
    {
      "cell_type": "code",
      "source": [
        "training_set = tf.keras.utils.image_dataset_from_directory(\n",
        "    '/content/drive/MyDrive/Project/AIProject/Augmented Images/Augmented Images',\n",
        "    labels=\"inferred\",\n",
        "    label_mode=\"categorical\",\n",
        "    class_names=None,\n",
        "    color_mode=\"rgb\",\n",
        "    batch_size=32,\n",
        "    image_size=(128, 128),\n",
        "    shuffle=True,\n",
        "    seed=None,\n",
        "    validation_split=None,\n",
        "    subset=None,\n",
        "    interpolation=\"bilinear\",\n",
        "    follow_links=False,\n",
        "    crop_to_aspect_ratio=False\n",
        ")"
      ],
      "metadata": {
        "id": "-N6vf3FSgHub",
        "colab": {
          "base_uri": "https://localhost:8080/"
        },
        "outputId": "995e05cf-c583-46de-fb56-1f15bc416c9f"
      },
      "execution_count": null,
      "outputs": [
        {
          "output_type": "stream",
          "name": "stdout",
          "text": [
            "Found 8120 files belonging to 6 classes.\n"
          ]
        }
      ]
    },
    {
      "cell_type": "code",
      "source": [
        "validation_set = tf.keras.utils.image_dataset_from_directory(\n",
        "    '/content/drive/MyDrive/Project/AIProject/Augmented Images/Augmented Images',\n",
        "    labels=\"inferred\",\n",
        "    label_mode=\"categorical\",\n",
        "    class_names=None,\n",
        "    color_mode=\"rgb\",\n",
        "    batch_size=32,\n",
        "    image_size=(128, 128),\n",
        "    shuffle=True,\n",
        "    seed=None,\n",
        "    validation_split=None,\n",
        "    subset=None,\n",
        "    interpolation=\"bilinear\",\n",
        "    follow_links=False,\n",
        "    crop_to_aspect_ratio=False\n",
        ")"
      ],
      "metadata": {
        "colab": {
          "base_uri": "https://localhost:8080/"
        },
        "id": "IVKpFuHKh2To",
        "outputId": "ac7540a4-b9f6-4f31-bc26-c555ad9c5463"
      },
      "execution_count": null,
      "outputs": [
        {
          "output_type": "stream",
          "name": "stdout",
          "text": [
            "Found 8120 files belonging to 6 classes.\n"
          ]
        }
      ]
    },
    {
      "cell_type": "code",
      "source": [
        "cnn = tf.keras.models.Sequential()"
      ],
      "metadata": {
        "id": "T9ql1YUQgHwV"
      },
      "execution_count": null,
      "outputs": []
    },
    {
      "cell_type": "code",
      "source": [
        "cnn.add(tf.keras.layers.Conv2D(filters=32,kernel_size=3,padding='same',activation='relu',input_shape=[128,128,3]))\n",
        "cnn.add(tf.keras.layers.Conv2D(filters=32,kernel_size=3,activation='relu'))\n",
        "cnn.add(tf.keras.layers.MaxPool2D(pool_size=2,strides=2))"
      ],
      "metadata": {
        "id": "jpvGddBAgH0A"
      },
      "execution_count": null,
      "outputs": []
    },
    {
      "cell_type": "code",
      "source": [
        "cnn.add(tf.keras.layers.Conv2D(filters=64,kernel_size=3,padding='same',activation='relu'))\n",
        "cnn.add(tf.keras.layers.Conv2D(filters=64,kernel_size=3,activation='relu'))\n",
        "cnn.add(tf.keras.layers.MaxPool2D(pool_size=2,strides=2))"
      ],
      "metadata": {
        "id": "W7sAeY4lgz61"
      },
      "execution_count": null,
      "outputs": []
    },
    {
      "cell_type": "code",
      "source": [
        "cnn.add(tf.keras.layers.Conv2D(filters=128,kernel_size=3,padding='same',activation='relu'))\n",
        "cnn.add(tf.keras.layers.Conv2D(filters=128,kernel_size=3,activation='relu'))\n",
        "cnn.add(tf.keras.layers.MaxPool2D(pool_size=2,strides=2))"
      ],
      "metadata": {
        "id": "cSynFM9xgz9G"
      },
      "execution_count": null,
      "outputs": []
    },
    {
      "cell_type": "code",
      "source": [
        "cnn.add(tf.keras.layers.Conv2D(filters=256,kernel_size=3,padding='same',activation='relu'))\n",
        "cnn.add(tf.keras.layers.Conv2D(filters=256,kernel_size=3,activation='relu'))\n",
        "cnn.add(tf.keras.layers.MaxPool2D(pool_size=2,strides=2))"
      ],
      "metadata": {
        "id": "kGZ4wSkkgz_m"
      },
      "execution_count": null,
      "outputs": []
    },
    {
      "cell_type": "code",
      "source": [
        "cnn.add(tf.keras.layers.Conv2D(filters=512,kernel_size=3,padding='same',activation='relu'))\n",
        "cnn.add(tf.keras.layers.Conv2D(filters=512,kernel_size=3,activation='relu'))\n",
        "cnn.add(tf.keras.layers.MaxPool2D(pool_size=2,strides=2))"
      ],
      "metadata": {
        "id": "42sWyiI4g0B5"
      },
      "execution_count": null,
      "outputs": []
    },
    {
      "cell_type": "code",
      "source": [
        "cnn.add(tf.keras.layers.Dropout(0.25))"
      ],
      "metadata": {
        "id": "m25VSloBg0FS"
      },
      "execution_count": null,
      "outputs": []
    },
    {
      "cell_type": "code",
      "source": [
        "cnn.add(tf.keras.layers.Flatten())"
      ],
      "metadata": {
        "id": "816MKlHIg0Mx"
      },
      "execution_count": null,
      "outputs": []
    },
    {
      "cell_type": "code",
      "source": [
        "cnn.add(tf.keras.layers.Dense(units=1500,activation='relu'))"
      ],
      "metadata": {
        "id": "jc4nMIn-g_6q"
      },
      "execution_count": null,
      "outputs": []
    },
    {
      "cell_type": "code",
      "source": [
        "cnn.add(tf.keras.layers.Dropout(0.4))"
      ],
      "metadata": {
        "id": "LE_9kHfZg_9K"
      },
      "execution_count": null,
      "outputs": []
    },
    {
      "cell_type": "code",
      "source": [
        "cnn.add(tf.keras.layers.Dense(units=6,activation='softmax'))"
      ],
      "metadata": {
        "id": "M9hgcGmig__Q"
      },
      "execution_count": null,
      "outputs": []
    },
    {
      "cell_type": "code",
      "source": [
        "cnn.compile(optimizer=tf.keras.optimizers.legacy.Adam(\n",
        "    learning_rate=0.0001),loss='categorical_crossentropy',metrics=['accuracy'])"
      ],
      "metadata": {
        "id": "JwF26Po3hABv"
      },
      "execution_count": null,
      "outputs": []
    },
    {
      "cell_type": "code",
      "source": [
        "cnn.summary()"
      ],
      "metadata": {
        "colab": {
          "base_uri": "https://localhost:8080/"
        },
        "id": "lkGJATpRhAD5",
        "outputId": "003d519c-9026-4694-8432-60b3cd7bb85e"
      },
      "execution_count": null,
      "outputs": [
        {
          "output_type": "stream",
          "name": "stdout",
          "text": [
            "Model: \"sequential\"\n",
            "_________________________________________________________________\n",
            " Layer (type)                Output Shape              Param #   \n",
            "=================================================================\n",
            " conv2d (Conv2D)             (None, 128, 128, 32)      896       \n",
            "                                                                 \n",
            " conv2d_1 (Conv2D)           (None, 126, 126, 32)      9248      \n",
            "                                                                 \n",
            " max_pooling2d (MaxPooling2  (None, 63, 63, 32)        0         \n",
            " D)                                                              \n",
            "                                                                 \n",
            " conv2d_2 (Conv2D)           (None, 63, 63, 64)        18496     \n",
            "                                                                 \n",
            " conv2d_3 (Conv2D)           (None, 61, 61, 64)        36928     \n",
            "                                                                 \n",
            " max_pooling2d_1 (MaxPoolin  (None, 30, 30, 64)        0         \n",
            " g2D)                                                            \n",
            "                                                                 \n",
            " conv2d_4 (Conv2D)           (None, 30, 30, 128)       73856     \n",
            "                                                                 \n",
            " conv2d_5 (Conv2D)           (None, 28, 28, 128)       147584    \n",
            "                                                                 \n",
            " max_pooling2d_2 (MaxPoolin  (None, 14, 14, 128)       0         \n",
            " g2D)                                                            \n",
            "                                                                 \n",
            " conv2d_6 (Conv2D)           (None, 14, 14, 256)       295168    \n",
            "                                                                 \n",
            " conv2d_7 (Conv2D)           (None, 12, 12, 256)       590080    \n",
            "                                                                 \n",
            " max_pooling2d_3 (MaxPoolin  (None, 6, 6, 256)         0         \n",
            " g2D)                                                            \n",
            "                                                                 \n",
            " conv2d_8 (Conv2D)           (None, 6, 6, 512)         1180160   \n",
            "                                                                 \n",
            " conv2d_9 (Conv2D)           (None, 4, 4, 512)         2359808   \n",
            "                                                                 \n",
            " max_pooling2d_4 (MaxPoolin  (None, 2, 2, 512)         0         \n",
            " g2D)                                                            \n",
            "                                                                 \n",
            " dropout (Dropout)           (None, 2, 2, 512)         0         \n",
            "                                                                 \n",
            " flatten (Flatten)           (None, 2048)              0         \n",
            "                                                                 \n",
            " dense (Dense)               (None, 1500)              3073500   \n",
            "                                                                 \n",
            " dropout_1 (Dropout)         (None, 1500)              0         \n",
            "                                                                 \n",
            " dense_1 (Dense)             (None, 6)                 9006      \n",
            "                                                                 \n",
            "=================================================================\n",
            "Total params: 7794730 (29.73 MB)\n",
            "Trainable params: 7794730 (29.73 MB)\n",
            "Non-trainable params: 0 (0.00 Byte)\n",
            "_________________________________________________________________\n"
          ]
        }
      ]
    },
    {
      "cell_type": "code",
      "source": [
        "training_history = cnn.fit(x=training_set, validation_data=validation_set, epochs=5)"
      ],
      "metadata": {
        "colab": {
          "base_uri": "https://localhost:8080/"
        },
        "id": "9nww8Ui5hAF-",
        "outputId": "0295179f-045f-497b-d151-efab4c9f4879"
      },
      "execution_count": null,
      "outputs": [
        {
          "output_type": "stream",
          "name": "stdout",
          "text": [
            "Epoch 1/5\n",
            "254/254 [==============================] - 1579s 6s/step - loss: 0.7324 - accuracy: 0.7089 - val_loss: 0.2241 - val_accuracy: 0.9219\n",
            "Epoch 2/5\n",
            "254/254 [==============================] - 1274s 5s/step - loss: 0.1388 - accuracy: 0.9549 - val_loss: 0.0439 - val_accuracy: 0.9871\n",
            "Epoch 3/5\n",
            "254/254 [==============================] - 1252s 5s/step - loss: 0.0612 - accuracy: 0.9805 - val_loss: 0.0278 - val_accuracy: 0.9904\n",
            "Epoch 4/5\n",
            "254/254 [==============================] - 1298s 5s/step - loss: 0.0378 - accuracy: 0.9885 - val_loss: 0.0239 - val_accuracy: 0.9927\n",
            "Epoch 5/5\n",
            "254/254 [==============================] - 1295s 5s/step - loss: 0.0636 - accuracy: 0.9803 - val_loss: 0.0128 - val_accuracy: 0.9967\n"
          ]
        }
      ]
    },
    {
      "cell_type": "code",
      "source": [
        "train_loss, train_acc = cnn.evaluate(training_set)\n",
        "print('Training accuracy:', train_acc)"
      ],
      "metadata": {
        "id": "YkhBQLrFhAIa",
        "colab": {
          "base_uri": "https://localhost:8080/"
        },
        "outputId": "948852d0-0497-4ce8-8bab-2f0f01b71679"
      },
      "execution_count": null,
      "outputs": [
        {
          "output_type": "stream",
          "name": "stdout",
          "text": [
            "254/254 [==============================] - 293s 1s/step - loss: 0.0128 - accuracy: 0.9967\n",
            "Training accuracy: 0.9966748952865601\n"
          ]
        }
      ]
    },
    {
      "cell_type": "code",
      "source": [
        "val_loss, val_acc = cnn.evaluate(validation_set)\n",
        "print('Validation accuracy:', val_acc)"
      ],
      "metadata": {
        "id": "ZWMWGEKBhALx",
        "colab": {
          "base_uri": "https://localhost:8080/"
        },
        "outputId": "e0275d8c-9aa7-4275-ea6c-6c6099b2915c"
      },
      "execution_count": null,
      "outputs": [
        {
          "output_type": "stream",
          "name": "stdout",
          "text": [
            "254/254 [==============================] - 286s 1s/step - loss: 0.0128 - accuracy: 0.9967\n",
            "Validation accuracy: 0.9966748952865601\n"
          ]
        }
      ]
    },
    {
      "cell_type": "code",
      "source": [
        "cnn.save('trained_plant_model.keras')"
      ],
      "metadata": {
        "id": "jlM3o86uhUdH"
      },
      "execution_count": null,
      "outputs": []
    },
    {
      "cell_type": "code",
      "source": [
        "training_history.history"
      ],
      "metadata": {
        "id": "T8F4xKNThUfg",
        "colab": {
          "base_uri": "https://localhost:8080/"
        },
        "outputId": "bcb7635f-610d-4902-c3ee-b8e9a1ee7655"
      },
      "execution_count": null,
      "outputs": [
        {
          "output_type": "execute_result",
          "data": {
            "text/plain": [
              "{'loss': [0.732375979423523,\n",
              "  0.1388382911682129,\n",
              "  0.061203133314847946,\n",
              "  0.0377674475312233,\n",
              "  0.06358664482831955],\n",
              " 'accuracy': [0.7088670134544373,\n",
              "  0.9549261331558228,\n",
              "  0.9805418848991394,\n",
              "  0.9885467886924744,\n",
              "  0.9802955389022827],\n",
              " 'val_loss': [0.22406399250030518,\n",
              "  0.04388408735394478,\n",
              "  0.027820048853754997,\n",
              "  0.023878980427980423,\n",
              "  0.012830188497900963],\n",
              " 'val_accuracy': [0.9219211935997009,\n",
              "  0.9870689511299133,\n",
              "  0.990394115447998,\n",
              "  0.9927340149879456,\n",
              "  0.9966748952865601]}"
            ]
          },
          "metadata": {},
          "execution_count": 31
        },
        {
          "output_type": "execute_result",
          "data": {
            "text/plain": [
              "{'loss': [0.732375979423523,\n",
              "  0.1388382911682129,\n",
              "  0.061203133314847946,\n",
              "  0.0377674475312233,\n",
              "  0.06358664482831955],\n",
              " 'accuracy': [0.7088670134544373,\n",
              "  0.9549261331558228,\n",
              "  0.9805418848991394,\n",
              "  0.9885467886924744,\n",
              "  0.9802955389022827],\n",
              " 'val_loss': [0.22406399250030518,\n",
              "  0.04388408735394478,\n",
              "  0.027820048853754997,\n",
              "  0.023878980427980423,\n",
              "  0.012830188497900963],\n",
              " 'val_accuracy': [0.9219211935997009,\n",
              "  0.9870689511299133,\n",
              "  0.990394115447998,\n",
              "  0.9927340149879456,\n",
              "  0.9966748952865601]}"
            ]
          },
          "metadata": {},
          "execution_count": 32
        }
      ]
    },
    {
      "cell_type": "code",
      "source": [
        "import json\n",
        "with open('training_hist.json','w') as f:\n",
        "  json.dump(training_history.history,f)"
      ],
      "metadata": {
        "id": "rr4XNvOfhUh8"
      },
      "execution_count": null,
      "outputs": []
    },
    {
      "cell_type": "code",
      "source": [
        "print(training_history.history.keys())"
      ],
      "metadata": {
        "id": "TBpowkXWhUkA"
      },
      "execution_count": null,
      "outputs": []
    },
    {
      "cell_type": "code",
      "source": [],
      "metadata": {
        "id": "NHYFRtxFhUm_"
      },
      "execution_count": null,
      "outputs": []
    },
    {
      "cell_type": "code",
      "source": [
        "class_name = validation_set.class_names"
      ],
      "metadata": {
        "id": "jHdip8RPhUpU"
      },
      "execution_count": null,
      "outputs": []
    },
    {
      "cell_type": "code",
      "source": [
        "test_set = tf.keras.utils.image_dataset_from_directory(\n",
        "    '/content/drive/MyDrive/Project/AIProject/Test',\n",
        "    labels=\"inferred\",\n",
        "    label_mode=\"categorical\",\n",
        "    class_names=None,\n",
        "    color_mode=\"rgb\",\n",
        "    batch_size=1,\n",
        "    image_size=(128, 128),\n",
        "    shuffle=False,\n",
        "    seed=None,\n",
        "    validation_split=None,\n",
        "    subset=None,\n",
        "    interpolation=\"bilinear\",\n",
        "    follow_links=False,\n",
        "    crop_to_aspect_ratio=False\n",
        ")"
      ],
      "metadata": {
        "colab": {
          "base_uri": "https://localhost:8080/"
        },
        "id": "g4lwCCyjBUt_",
        "outputId": "63e962ca-d824-4eb6-a184-e0cc4ad81533"
      },
      "execution_count": null,
      "outputs": [
        {
          "output_type": "stream",
          "name": "stdout",
          "text": [
            "Found 33 files belonging to 1 classes.\n"
          ]
        }
      ]
    },
    {
      "cell_type": "code",
      "source": [
        "y_pred = cnn.predict(test_set)\n",
        "predicted_categories = tf.argmax(y_pred, axis=1)"
      ],
      "metadata": {
        "colab": {
          "base_uri": "https://localhost:8080/"
        },
        "id": "k40H5Ua2Bn2x",
        "outputId": "642ab279-43e0-410c-d56b-3b80a7978f03"
      },
      "execution_count": null,
      "outputs": [
        {
          "output_type": "stream",
          "name": "stdout",
          "text": [
            "33/33 [==============================] - 1s 12ms/step\n"
          ]
        }
      ]
    },
    {
      "cell_type": "code",
      "source": [
        "y_pred"
      ],
      "metadata": {
        "colab": {
          "base_uri": "https://localhost:8080/"
        },
        "id": "e46RCBcbNjRC",
        "outputId": "0f5f0f29-bafe-48ff-e9d7-847edfd4ccd2"
      },
      "execution_count": null,
      "outputs": [
        {
          "output_type": "execute_result",
          "data": {
            "text/plain": [
              "array([[[[232.75, 229.75, 220.75],\n",
              "         [228.25, 225.25, 216.25],\n",
              "         [232.  , 229.  , 220.  ],\n",
              "         ...,\n",
              "         [254.  , 255.  , 247.  ],\n",
              "         [254.  , 255.  , 247.  ],\n",
              "         [254.  , 255.  , 247.  ]],\n",
              "\n",
              "        [[231.5 , 228.5 , 219.5 ],\n",
              "         [229.5 , 226.5 , 217.5 ],\n",
              "         [232.  , 229.  , 220.  ],\n",
              "         ...,\n",
              "         [254.  , 255.  , 247.  ],\n",
              "         [254.  , 255.  , 247.  ],\n",
              "         [254.  , 255.  , 247.  ]],\n",
              "\n",
              "        [[227.  , 224.  , 215.  ],\n",
              "         [228.75, 225.75, 216.75],\n",
              "         [228.75, 225.75, 216.75],\n",
              "         ...,\n",
              "         [254.  , 255.  , 247.  ],\n",
              "         [254.  , 255.  , 247.  ],\n",
              "         [254.  , 255.  , 247.  ]],\n",
              "\n",
              "        ...,\n",
              "\n",
              "        [[210.75, 207.75, 198.75],\n",
              "         [214.5 , 211.5 , 202.5 ],\n",
              "         [212.5 , 209.5 , 200.5 ],\n",
              "         ...,\n",
              "         [249.25, 246.25, 239.25],\n",
              "         [249.  , 246.  , 239.  ],\n",
              "         [247.5 , 244.5 , 237.5 ]],\n",
              "\n",
              "        [[211.  , 208.  , 199.  ],\n",
              "         [214.25, 211.25, 202.25],\n",
              "         [212.  , 209.  , 200.  ],\n",
              "         ...,\n",
              "         [248.  , 245.  , 238.  ],\n",
              "         [249.  , 246.  , 239.  ],\n",
              "         [249.  , 246.  , 239.  ]],\n",
              "\n",
              "        [[212.75, 209.75, 200.75],\n",
              "         [212.25, 209.25, 200.25],\n",
              "         [212.  , 209.  , 200.  ],\n",
              "         ...,\n",
              "         [248.  , 245.  , 238.  ],\n",
              "         [248.  , 245.  , 238.  ],\n",
              "         [248.  , 245.  , 238.  ]]],\n",
              "\n",
              "\n",
              "       [[[255.  , 255.  , 255.  ],\n",
              "         [255.  , 255.  , 255.  ],\n",
              "         [255.  , 255.  , 255.  ],\n",
              "         ...,\n",
              "         [255.  , 255.  , 255.  ],\n",
              "         [255.  , 255.  , 255.  ],\n",
              "         [255.  , 255.  , 255.  ]],\n",
              "\n",
              "        [[255.  , 255.  , 255.  ],\n",
              "         [255.  , 255.  , 255.  ],\n",
              "         [255.  , 255.  , 255.  ],\n",
              "         ...,\n",
              "         [255.  , 255.  , 255.  ],\n",
              "         [255.  , 255.  , 255.  ],\n",
              "         [255.  , 255.  , 255.  ]],\n",
              "\n",
              "        [[255.  , 255.  , 255.  ],\n",
              "         [255.  , 255.  , 255.  ],\n",
              "         [255.  , 255.  , 255.  ],\n",
              "         ...,\n",
              "         [255.  , 255.  , 255.  ],\n",
              "         [255.  , 255.  , 255.  ],\n",
              "         [255.  , 255.  , 255.  ]],\n",
              "\n",
              "        ...,\n",
              "\n",
              "        [[235.  , 231.  , 222.  ],\n",
              "         [235.  , 231.  , 222.  ],\n",
              "         [236.  , 232.  , 223.  ],\n",
              "         ...,\n",
              "         [255.  , 255.  , 255.  ],\n",
              "         [255.  , 255.  , 255.  ],\n",
              "         [255.  , 255.  , 255.  ]],\n",
              "\n",
              "        [[234.75, 230.75, 221.75],\n",
              "         [234.5 , 230.5 , 221.5 ],\n",
              "         [234.  , 230.  , 221.  ],\n",
              "         ...,\n",
              "         [255.  , 255.  , 255.  ],\n",
              "         [255.  , 255.  , 255.  ],\n",
              "         [255.  , 255.  , 255.  ]],\n",
              "\n",
              "        [[236.5 , 232.5 , 223.5 ],\n",
              "         [236.25, 232.25, 223.25],\n",
              "         [235.  , 231.  , 222.  ],\n",
              "         ...,\n",
              "         [255.  , 255.  , 255.  ],\n",
              "         [255.  , 255.  , 255.  ],\n",
              "         [255.  , 255.  , 255.  ]]],\n",
              "\n",
              "\n",
              "       [[[255.  , 255.  , 250.  ],\n",
              "         [255.  , 255.  , 250.  ],\n",
              "         [255.  , 255.  , 250.  ],\n",
              "         ...,\n",
              "         [242.25, 240.25, 226.25],\n",
              "         [241.75, 240.75, 222.75],\n",
              "         [244.5 , 243.5 , 223.5 ]],\n",
              "\n",
              "        [[255.  , 255.  , 250.  ],\n",
              "         [255.  , 255.  , 250.  ],\n",
              "         [255.  , 255.  , 250.  ],\n",
              "         ...,\n",
              "         [239.25, 237.25, 223.25],\n",
              "         [240.25, 239.25, 221.25],\n",
              "         [243.5 , 242.5 , 222.5 ]],\n",
              "\n",
              "        [[255.  , 255.  , 250.  ],\n",
              "         [255.  , 255.  , 250.  ],\n",
              "         [255.  , 255.  , 250.  ],\n",
              "         ...,\n",
              "         [242.  , 240.  , 226.  ],\n",
              "         [241.5 , 240.5 , 222.5 ],\n",
              "         [241.5 , 240.5 , 220.5 ]],\n",
              "\n",
              "        ...,\n",
              "\n",
              "        [[248.5 , 243.5 , 237.5 ],\n",
              "         [248.5 , 243.5 , 237.5 ],\n",
              "         [249.  , 244.  , 238.  ],\n",
              "         ...,\n",
              "         [194.  , 190.  , 181.  ],\n",
              "         [194.  , 190.  , 181.  ],\n",
              "         [194.  , 190.  , 181.  ]],\n",
              "\n",
              "        [[249.  , 244.  , 238.  ],\n",
              "         [249.  , 244.  , 238.  ],\n",
              "         [249.  , 244.  , 238.  ],\n",
              "         ...,\n",
              "         [195.  , 191.  , 182.  ],\n",
              "         [194.  , 190.  , 181.  ],\n",
              "         [194.  , 190.  , 181.  ]],\n",
              "\n",
              "        [[249.  , 244.  , 238.  ],\n",
              "         [249.  , 244.  , 238.  ],\n",
              "         [249.  , 244.  , 238.  ],\n",
              "         ...,\n",
              "         [193.  , 189.  , 180.  ],\n",
              "         [194.  , 190.  , 181.  ],\n",
              "         [194.  , 190.  , 181.  ]]],\n",
              "\n",
              "\n",
              "       ...,\n",
              "\n",
              "\n",
              "       [[[244.5 , 238.5 , 224.5 ],\n",
              "         [246.5 , 240.5 , 226.5 ],\n",
              "         [244.5 , 238.5 , 224.5 ],\n",
              "         ...,\n",
              "         [254.  , 249.  , 243.  ],\n",
              "         [255.  , 250.  , 244.  ],\n",
              "         [255.  , 250.  , 244.  ]],\n",
              "\n",
              "        [[246.25, 240.25, 226.25],\n",
              "         [244.5 , 238.5 , 224.5 ],\n",
              "         [244.5 , 238.5 , 224.5 ],\n",
              "         ...,\n",
              "         [254.  , 249.  , 243.  ],\n",
              "         [255.  , 250.  , 244.  ],\n",
              "         [255.  , 250.  , 244.  ]],\n",
              "\n",
              "        [[244.  , 238.  , 224.  ],\n",
              "         [244.  , 238.  , 224.  ],\n",
              "         [245.  , 239.  , 225.  ],\n",
              "         ...,\n",
              "         [253.  , 248.  , 242.  ],\n",
              "         [255.  , 250.  , 244.  ],\n",
              "         [255.  , 250.  , 244.  ]],\n",
              "\n",
              "        ...,\n",
              "\n",
              "        [[255.  , 255.  , 255.  ],\n",
              "         [255.  , 255.  , 255.  ],\n",
              "         [255.  , 255.  , 255.  ],\n",
              "         ...,\n",
              "         [255.  , 255.  , 255.  ],\n",
              "         [255.  , 255.  , 255.  ],\n",
              "         [255.  , 255.  , 255.  ]],\n",
              "\n",
              "        [[255.  , 255.  , 255.  ],\n",
              "         [255.  , 255.  , 255.  ],\n",
              "         [255.  , 255.  , 255.  ],\n",
              "         ...,\n",
              "         [255.  , 255.  , 255.  ],\n",
              "         [255.  , 255.  , 255.  ],\n",
              "         [255.  , 255.  , 255.  ]],\n",
              "\n",
              "        [[255.  , 255.  , 255.  ],\n",
              "         [255.  , 255.  , 255.  ],\n",
              "         [255.  , 255.  , 255.  ],\n",
              "         ...,\n",
              "         [255.  , 255.  , 255.  ],\n",
              "         [255.  , 255.  , 255.  ],\n",
              "         [255.  , 255.  , 255.  ]]],\n",
              "\n",
              "\n",
              "       [[[196.  , 189.  , 181.  ],\n",
              "         [196.  , 189.  , 181.  ],\n",
              "         [196.  , 189.  , 181.  ],\n",
              "         ...,\n",
              "         [238.  , 235.  , 226.  ],\n",
              "         [238.  , 235.  , 226.  ],\n",
              "         [238.  , 235.  , 226.  ]],\n",
              "\n",
              "        [[196.  , 189.  , 181.  ],\n",
              "         [196.  , 189.  , 181.  ],\n",
              "         [196.  , 189.  , 181.  ],\n",
              "         ...,\n",
              "         [238.  , 235.  , 226.  ],\n",
              "         [238.  , 235.  , 226.  ],\n",
              "         [238.  , 235.  , 226.  ]],\n",
              "\n",
              "        [[196.  , 189.  , 181.  ],\n",
              "         [196.  , 189.  , 181.  ],\n",
              "         [195.5 , 188.5 , 180.5 ],\n",
              "         ...,\n",
              "         [238.  , 235.  , 226.  ],\n",
              "         [238.  , 235.  , 226.  ],\n",
              "         [238.  , 235.  , 226.  ]],\n",
              "\n",
              "        ...,\n",
              "\n",
              "        [[175.  , 172.  , 163.  ],\n",
              "         [176.5 , 173.5 , 164.5 ],\n",
              "         [176.  , 173.  , 164.  ],\n",
              "         ...,\n",
              "         [226.5 , 223.5 , 216.5 ],\n",
              "         [226.5 , 223.5 , 216.5 ],\n",
              "         [226.5 , 223.5 , 216.5 ]],\n",
              "\n",
              "        [[176.  , 173.  , 164.  ],\n",
              "         [174.75, 171.75, 162.75],\n",
              "         [174.  , 171.  , 162.  ],\n",
              "         ...,\n",
              "         [227.  , 224.  , 217.  ],\n",
              "         [227.  , 224.  , 217.  ],\n",
              "         [227.  , 224.  , 217.  ]],\n",
              "\n",
              "        [[174.75, 171.75, 162.75],\n",
              "         [173.  , 170.  , 161.  ],\n",
              "         [174.  , 171.  , 162.  ],\n",
              "         ...,\n",
              "         [227.  , 224.  , 217.  ],\n",
              "         [227.  , 224.  , 217.  ],\n",
              "         [227.  , 224.  , 217.  ]]],\n",
              "\n",
              "\n",
              "       [[[220.  , 216.  , 207.  ],\n",
              "         [220.  , 216.  , 207.  ],\n",
              "         [221.  , 217.  , 208.  ],\n",
              "         ...,\n",
              "         [255.  , 255.  , 251.  ],\n",
              "         [255.  , 255.  , 253.  ],\n",
              "         [255.  , 255.  , 255.  ]],\n",
              "\n",
              "        [[220.  , 216.  , 207.  ],\n",
              "         [220.  , 216.  , 207.  ],\n",
              "         [220.  , 216.  , 207.  ],\n",
              "         ...,\n",
              "         [255.  , 255.  , 251.  ],\n",
              "         [255.  , 255.  , 253.  ],\n",
              "         [255.  , 255.  , 255.  ]],\n",
              "\n",
              "        [[220.  , 216.  , 207.  ],\n",
              "         [220.  , 216.  , 207.  ],\n",
              "         [220.  , 216.  , 207.  ],\n",
              "         ...,\n",
              "         [255.  , 255.  , 251.  ],\n",
              "         [255.  , 255.  , 253.  ],\n",
              "         [255.  , 255.  , 255.  ]],\n",
              "\n",
              "        ...,\n",
              "\n",
              "        [[210.5 , 207.5 , 198.5 ],\n",
              "         [208.75, 205.75, 196.75],\n",
              "         [210.  , 207.  , 198.  ],\n",
              "         ...,\n",
              "         [255.  , 254.  , 250.  ],\n",
              "         [255.  , 254.  , 250.  ],\n",
              "         [255.  , 254.  , 250.  ]],\n",
              "\n",
              "        [[210.  , 207.  , 198.  ],\n",
              "         [210.  , 207.  , 198.  ],\n",
              "         [210.  , 207.  , 198.  ],\n",
              "         ...,\n",
              "         [255.  , 254.  , 250.  ],\n",
              "         [255.  , 254.  , 250.  ],\n",
              "         [255.  , 254.  , 250.  ]],\n",
              "\n",
              "        [[210.  , 207.  , 198.  ],\n",
              "         [210.  , 207.  , 198.  ],\n",
              "         [210.  , 207.  , 198.  ],\n",
              "         ...,\n",
              "         [255.  , 254.  , 250.  ],\n",
              "         [255.  , 254.  , 250.  ],\n",
              "         [255.  , 254.  , 250.  ]]]], dtype=float32)"
            ]
          },
          "metadata": {},
          "execution_count": 44
        }
      ]
    },
    {
      "cell_type": "code",
      "source": [
        "y_pred.shape"
      ],
      "metadata": {
        "colab": {
          "base_uri": "https://localhost:8080/"
        },
        "id": "pNPfPvARPCGW",
        "outputId": "a7c54dd1-e5a4-49e3-ac1d-0b943a764233"
      },
      "execution_count": null,
      "outputs": [
        {
          "output_type": "execute_result",
          "data": {
            "text/plain": [
              "(33, 128, 128, 3)"
            ]
          },
          "metadata": {},
          "execution_count": 22
        }
      ]
    },
    {
      "cell_type": "code",
      "source": [
        "true_categories = tf.concat([y for x, y in test_set], axis=0)\n",
        "Y_true = tf.argmax(true_categories, axis=1)"
      ],
      "metadata": {
        "id": "xK9pPNR0BoBO"
      },
      "execution_count": null,
      "outputs": []
    },
    {
      "cell_type": "code",
      "source": [
        "Y_true"
      ],
      "metadata": {
        "colab": {
          "base_uri": "https://localhost:8080/"
        },
        "id": "OtQ_v5wTCxg1",
        "outputId": "228cb9dc-f759-4b25-d78e-1cb776cbaf6d"
      },
      "execution_count": null,
      "outputs": [
        {
          "output_type": "execute_result",
          "data": {
            "text/plain": [
              "<tf.Tensor: shape=(33,), dtype=int64, numpy=\n",
              "array([0, 0, 0, 0, 0, 0, 0, 0, 0, 0, 0, 0, 0, 0, 0, 0, 0, 0, 0, 0, 0, 0,\n",
              "       0, 0, 0, 0, 0, 0, 0, 0, 0, 0, 0])>"
            ]
          },
          "metadata": {},
          "execution_count": 46
        }
      ]
    },
    {
      "cell_type": "code",
      "source": [
        "Y_true.shape"
      ],
      "metadata": {
        "colab": {
          "base_uri": "https://localhost:8080/"
        },
        "id": "OQVRhoHHQoDV",
        "outputId": "2648b627-ab94-4da4-a691-7888783b1b1d"
      },
      "execution_count": null,
      "outputs": [
        {
          "output_type": "execute_result",
          "data": {
            "text/plain": [
              "TensorShape([33])"
            ]
          },
          "metadata": {},
          "execution_count": 37
        }
      ]
    },
    {
      "cell_type": "code",
      "source": [
        "predicted_categories"
      ],
      "metadata": {
        "colab": {
          "base_uri": "https://localhost:8080/"
        },
        "id": "2HTQ6h9QCzq8",
        "outputId": "deb0404e-e244-40f7-c306-e5dafd952bc9"
      },
      "execution_count": null,
      "outputs": [
        {
          "output_type": "execute_result",
          "data": {
            "text/plain": [
              "<tf.Tensor: shape=(33, 128, 3), dtype=int64, numpy=\n",
              "array([[[ 0,  0,  0],\n",
              "        [ 3,  3,  3],\n",
              "        [ 0,  0,  0],\n",
              "        ...,\n",
              "        [19,  0,  0],\n",
              "        [19,  0,  0],\n",
              "        [19,  0,  0]],\n",
              "\n",
              "       [[ 0,  0,  0],\n",
              "        [ 0,  0,  0],\n",
              "        [ 0,  0,  0],\n",
              "        ...,\n",
              "        [ 0,  0,  0],\n",
              "        [ 0,  0,  0],\n",
              "        [ 0,  0,  0]],\n",
              "\n",
              "       [[ 0,  0, 12],\n",
              "        [ 0,  0, 12],\n",
              "        [ 0,  0, 12],\n",
              "        ...,\n",
              "        [ 0,  0,  4],\n",
              "        [ 4,  0,  4],\n",
              "        [ 0,  0, 10]],\n",
              "\n",
              "       ...,\n",
              "\n",
              "       [[90, 72, 92],\n",
              "        [72, 72, 92],\n",
              "        [75, 78, 92],\n",
              "        ...,\n",
              "        [ 4, 20, 28],\n",
              "        [ 0, 20, 28],\n",
              "        [ 0, 19, 28]],\n",
              "\n",
              "       [[14, 14, 14],\n",
              "        [14, 14, 14],\n",
              "        [14, 14, 14],\n",
              "        ...,\n",
              "        [ 0, 21, 21],\n",
              "        [ 0, 21, 21],\n",
              "        [ 0, 21, 21]],\n",
              "\n",
              "       [[ 7,  0,  0],\n",
              "        [ 7,  0,  0],\n",
              "        [ 7,  0,  0],\n",
              "        ...,\n",
              "        [ 0,  0,  4],\n",
              "        [ 0,  0,  4],\n",
              "        [ 0,  0,  0]]])>"
            ]
          },
          "metadata": {},
          "execution_count": 47
        }
      ]
    },
    {
      "cell_type": "code",
      "source": [
        "from sklearn.metrics import confusion_matrix,classification_report\n",
        "cm = confusion_matrix(Y_true,predicted_categories)"
      ],
      "metadata": {
        "id": "oLO9SV9CBoDf"
      },
      "execution_count": null,
      "outputs": []
    },
    {
      "cell_type": "code",
      "source": [
        "print(classification_report(Y_true,predicted_categories,target_names=class_name))"
      ],
      "metadata": {
        "id": "E_HlsySpC37D"
      },
      "execution_count": null,
      "outputs": []
    },
    {
      "cell_type": "code",
      "source": [
        "plt.figure(figsize=(40, 40))\n",
        "sns.heatmap(cm,annot=True,annot_kws={\"size\": 10})\n",
        "\n",
        "plt.xlabel('Predicted Class',fontsize = 20)\n",
        "plt.ylabel('Actual Class',fontsize = 20)\n",
        "plt.title('Plant Disease Prediction Confusion Matrix',fontsize = 25)\n",
        "plt.show()"
      ],
      "metadata": {
        "id": "dnObBya4BoHA"
      },
      "execution_count": null,
      "outputs": []
    },
    {
      "cell_type": "code",
      "source": [],
      "metadata": {
        "id": "5VFhyOCYhUru"
      },
      "execution_count": null,
      "outputs": []
    },
    {
      "cell_type": "code",
      "source": [],
      "metadata": {
        "id": "TaJRcZYfhUvX"
      },
      "execution_count": null,
      "outputs": []
    }
  ]
}